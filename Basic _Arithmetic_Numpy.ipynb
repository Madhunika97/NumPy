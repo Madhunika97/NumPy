{
 "cells": [
  {
   "cell_type": "markdown",
   "id": "ef742f8d-ee51-4867-b6c8-352f1004e03e",
   "metadata": {},
   "source": [
    "## 1,2,3 Dimensional Matrix"
   ]
  },
  {
   "cell_type": "code",
   "execution_count": 52,
   "id": "73543d06-2bb9-4f79-a3e5-a0e2a50f07e3",
   "metadata": {},
   "outputs": [
    {
     "name": "stdout",
     "output_type": "stream",
     "text": [
      "Matrix n1 : \n",
      " [0]\n",
      "\n",
      " Matrix n2 : \n",
      " [[55  6]\n",
      " [ 7  8]]\n",
      "\n",
      " Matrix n3 : \n",
      " [[      0       1       0]\n",
      " [    658    1272       0]\n",
      " [    768     658 7667816]]\n"
     ]
    }
   ],
   "source": [
    "import numpy as np\n",
    "\n",
    "n1 = np.empty (1, dtype = int)\n",
    "print(\"Matrix n1 : \\n\", n1) \n",
    "\n",
    "n2 = np.empty([2, 2], dtype = int)\n",
    "print(\"\\n Matrix n2 : \\n\", n2)\n",
    "\n",
    "n3 = np.empty([3, 3],dtype = int)\n",
    "print(\"\\n Matrix n3 : \\n\", n3)"
   ]
  },
  {
   "cell_type": "markdown",
   "id": "f1fb40a7-5624-4e24-a821-c0589047115e",
   "metadata": {},
   "source": [
    "## Addition of Matrices"
   ]
  },
  {
   "cell_type": "code",
   "execution_count": 16,
   "id": "237e448d-907e-4803-a4c8-915c91ef0600",
   "metadata": {},
   "outputs": [
    {
     "name": "stdout",
     "output_type": "stream",
     "text": [
      "Matrix of z: \n",
      " [[0 0]\n",
      " [0 0]]\n"
     ]
    }
   ],
   "source": [
    "z=np.zeros([2,2] ,dtype=int)\n",
    "print(\"Matrix of z: \\n\",z)"
   ]
  },
  {
   "cell_type": "code",
   "execution_count": 21,
   "id": "f50b20fb-9ba3-47a7-839f-f1fc8cacf843",
   "metadata": {},
   "outputs": [
    {
     "name": "stdout",
     "output_type": "stream",
     "text": [
      "Matrix of n3:\n",
      " [ 6  8 10 12]\n"
     ]
    }
   ],
   "source": [
    "n1= np.array ([1,2,3,4])\n",
    "n2= np.array ([5,6,7,8])\n",
    "n3= np.add (n1,n2)\n",
    "print (\"Matrix of n3:\\n\" ,n3)"
   ]
  },
  {
   "cell_type": "code",
   "execution_count": 23,
   "id": "9002ac7f-a27d-42f3-a7e5-1bcefc392ad8",
   "metadata": {},
   "outputs": [
    {
     "name": "stdout",
     "output_type": "stream",
     "text": [
      "[  8  79  26 134]\n"
     ]
    }
   ],
   "source": [
    "a = np.array([5, 72, 13, 100])\n",
    "b = np.array([2, 5, 10, 30])\n",
    "c = np.array([1, 2, 3, 4])\n",
    "add_ans = a+b+c\n",
    "print(add_ans)"
   ]
  },
  {
   "cell_type": "markdown",
   "id": "8363f04b-7e02-483d-b091-229a6a137922",
   "metadata": {},
   "source": [
    "## Subtraction of Matrices"
   ]
  },
  {
   "cell_type": "code",
   "execution_count": 36,
   "id": "9a1aa931-74c6-4cbc-8e2b-02fa0768ec60",
   "metadata": {},
   "outputs": [
    {
     "name": "stdout",
     "output_type": "stream",
     "text": [
      "Matrix of n3:\n",
      " [-47   6   6   6]\n"
     ]
    }
   ],
   "source": [
    "n1= np.array ([8,12,13,14])\n",
    "n2= np.array ([55,6,7,8])\n",
    "n3= n1-n2\n",
    "print (\"Matrix of n3:\\n\" ,n3)"
   ]
  },
  {
   "cell_type": "code",
   "execution_count": 32,
   "id": "f287c2e7-ef67-4136-8562-583dd5f48354",
   "metadata": {},
   "outputs": [
    {
     "name": "stdout",
     "output_type": "stream",
     "text": [
      "Matrix of n3:\n",
      " [3 6 6 6]\n"
     ]
    }
   ],
   "source": [
    "n1 = np.array([8, 12, 13, 14])\n",
    "n2 = np.array([5, 6, 7, 8])\n",
    "n3 = n1 - n2\n",
    "print(\"Matrix of n3:\\n\", n3)\n"
   ]
  },
  {
   "cell_type": "markdown",
   "id": "88204a82-d665-458c-9f35-83f47119f086",
   "metadata": {},
   "source": [
    "## Multiplication of Matrices"
   ]
  },
  {
   "cell_type": "code",
   "execution_count": 37,
   "id": "ca3165ae-9d14-4c57-839d-baa0edbd89b3",
   "metadata": {},
   "outputs": [
    {
     "name": "stdout",
     "output_type": "stream",
     "text": [
      "Multiplication Matrix of n3:\n",
      " [440  72  91 112]\n"
     ]
    }
   ],
   "source": [
    "n1= np.array ([8,12,13,14])\n",
    "n2= np.array ([55,6,7,8])\n",
    "n3= n1*n2\n",
    "print (\"Multiplication Matrix of n3:\\n\" ,n3)"
   ]
  },
  {
   "cell_type": "code",
   "execution_count": 38,
   "id": "7a9a4ebd-e99d-463b-9080-912a290be423",
   "metadata": {},
   "outputs": [
    {
     "name": "stdout",
     "output_type": "stream",
     "text": [
      "Multiplication Matrix of n3:\n",
      " [440  72  91 112]\n"
     ]
    }
   ],
   "source": [
    "n1= np.array ([8,12,13,14])\n",
    "n2= np.array ([55,6,7,8])\n",
    "n3= np.multiply(n1,n2)\n",
    "print (\"Multiplication Matrix of n3:\\n\" ,n3)"
   ]
  },
  {
   "cell_type": "code",
   "execution_count": null,
   "id": "3be923f1-9107-4975-bd9a-e04867a4d122",
   "metadata": {},
   "outputs": [],
   "source": [
    "## Division of Matrices"
   ]
  },
  {
   "cell_type": "code",
   "execution_count": 47,
   "id": "df53dba4-8c90-46ff-9d42-38846704a707",
   "metadata": {},
   "outputs": [
    {
     "name": "stdout",
     "output_type": "stream",
     "text": [
      "Division Matrix of n3:\n",
      " [0.15 2.   1.86 1.75]\n"
     ]
    }
   ],
   "source": [
    "n1= np.array ([8,12,13,14],dtype = int)\n",
    "n2= np.array ([55,6,7,8], dtype = int)\n",
    "n3= np.divide(n1,n2)\n",
    "np.set_printoptions(precision=2, suppress=True)\n",
    "print (\"Division Matrix of n3:\\n\" ,n3)"
   ]
  },
  {
   "cell_type": "code",
   "execution_count": 48,
   "id": "9d855c01-27ad-4e94-b755-3f236d3edcde",
   "metadata": {},
   "outputs": [
    {
     "name": "stdout",
     "output_type": "stream",
     "text": [
      "Division Matrix of n3:\n",
      " [0.15 2.   1.86 1.75]\n"
     ]
    }
   ],
   "source": [
    "n1= np.array ([8,12,13,14],dtype = int)\n",
    "n2= np.array ([55,6,7,8], dtype = int)\n",
    "n3= n1/n2\n",
    "np.set_printoptions(precision=2, suppress=True)\n",
    "print (\"Division Matrix of n3:\\n\" ,n3)"
   ]
  }
 ],
 "metadata": {
  "kernelspec": {
   "display_name": "Python 3 (ipykernel)",
   "language": "python",
   "name": "python3"
  },
  "language_info": {
   "codemirror_mode": {
    "name": "ipython",
    "version": 3
   },
   "file_extension": ".py",
   "mimetype": "text/x-python",
   "name": "python",
   "nbconvert_exporter": "python",
   "pygments_lexer": "ipython3",
   "version": "3.12.1"
  }
 },
 "nbformat": 4,
 "nbformat_minor": 5
}
