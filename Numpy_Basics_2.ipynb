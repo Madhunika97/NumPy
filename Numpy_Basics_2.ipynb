{
 "cells": [
  {
   "cell_type": "markdown",
   "id": "b619f814-feaa-4f3e-a018-8692475eb1f8",
   "metadata": {},
   "source": [
    "## Indexing"
   ]
  },
  {
   "cell_type": "code",
   "execution_count": 8,
   "id": "b9594c6b-6f2a-425b-bb2a-7b80e4b5e032",
   "metadata": {},
   "outputs": [
    {
     "name": "stdout",
     "output_type": "stream",
     "text": [
      "The output is : \n",
      " [10  7  4  1 -2 -5 -8]\n"
     ]
    }
   ],
   "source": [
    "import numpy as np\n",
    "n1 = np.arange (10,-9,-3) #10 --> The Starting Value,\n",
    "                          #-3 -->The Step Value,\n",
    "                          #-9 --> The End Value (Exclusive*)\n",
    "print (\"The output is : \\n\", n1)"
   ]
  },
  {
   "cell_type": "code",
   "execution_count": 43,
   "id": "bfec8ac1-82b6-44c5-b9c8-cc0e842ae525",
   "metadata": {},
   "outputs": [
    {
     "name": "stdout",
     "output_type": "stream",
     "text": [
      "[ 3  2  1  0 -1]\n",
      "The Value of n2:\n",
      " [ 1  4  7 10 -8]\n"
     ]
    }
   ],
   "source": [
    "n1 = np.arange (10,-9,-3)\n",
    "#n2 =np.arange(3,-2,-1) -- we get a result of [ 3  2  1  0 -1] just replace those index values with the original values of n1\n",
    "#for example 3 - 1, 2-4 , 1- 7, 0-10 & -1-(-8)\n",
    "print(n3)\n",
    "n2 = n1[np.arange (3,-2,-1)]\n",
    "print (\"The Value of n2:\\n\" ,n2)"
   ]
  },
  {
   "cell_type": "markdown",
   "id": "2a7b112a-1bd6-4d52-af27-6d673bce2ba0",
   "metadata": {},
   "source": [
    "## Slicing"
   ]
  },
  {
   "cell_type": "code",
   "execution_count": 32,
   "id": "7608c5ef-53c8-4bfc-a85f-c2558c83fb2b",
   "metadata": {},
   "outputs": [
    {
     "name": "stdout",
     "output_type": "stream",
     "text": [
      "[ 0  1  2  3  4  5  6  7  8  9 10 11 12 13 14 15 16 17 18 19]\n"
     ]
    }
   ],
   "source": [
    "n1 = np.arange(20)\n",
    "print(n1)"
   ]
  },
  {
   "cell_type": "code",
   "execution_count": 47,
   "id": "c91ce785-6cce-4145-ba3a-7102a48070d5",
   "metadata": {},
   "outputs": [
    {
     "name": "stdout",
     "output_type": "stream",
     "text": [
      "Value of n1:\n",
      " [ 0  1  2  3  4  5  6  7  8  9 10 11 12 13 14 15 16 17 18 19]\n",
      "Value of [-8:13:6]:\n",
      " [15 16 17 18]\n",
      "Value of [10:]:\n",
      " [10 11 12 13 14 15 16 17 18 19]\n"
     ]
    }
   ],
   "source": [
    "n1 = np.arange(20)\n",
    "print(\"Value of n1:\\n\" ,n1)\n",
    "n1[-8:13:6] # Modifying elements in the specified slice\n",
    "\n",
    "print(\"Value of [-8:13:6]:\\n\" ,n1[-5:19:1]) # -5 Start\n",
    "                   # 19 Step\n",
    "                   #1 Stop \n",
    "print (\"Value of [10:]:\\n\" ,n1[10:])"
   ]
  },
  {
   "cell_type": "code",
   "execution_count": 72,
   "id": "7ac02256-3eaa-4516-8a0b-72ca4cb27cfd",
   "metadata": {},
   "outputs": [
    {
     "name": "stdout",
     "output_type": "stream",
     "text": [
      "1st Method to get n1 :\n",
      " [[ 2  5]\n",
      " [ 8 11]]\n",
      "2nd Method to get n1 :\n",
      " [[[ 1  2  3]\n",
      "  [ 4  5  6]]\n",
      "\n",
      " [[ 7  8  9]\n",
      "  [10 11 12]]]\n"
     ]
    }
   ],
   "source": [
    "n1 = np.array([[[1, 2, 3], [4, 5, 6]],\n",
    "               [[7, 8, 9], [10, 11, 12]]])\n",
    "print(\"1st Method to get n1 :\\n\" ,n1[...,1]) #... Excluding \n",
    "print(\"2nd Method to get n1 :\\n\", n1)\n"
   ]
  },
  {
   "cell_type": "markdown",
   "id": "5d0555d8-2069-4a99-b617-4180d8ced061",
   "metadata": {},
   "source": [
    "## Broadcasting of Numpy\n",
    "## Broadcasting of 1 Array\n",
    "Note: NumPy broadcasting allows for element-wise operations between arrays of different shapes and sizes, implicitly extending dimensions to make them compatible for efficient computation."
   ]
  },
  {
   "cell_type": "code",
   "execution_count": 83,
   "id": "9fcf1e71-520b-4d70-85f6-1af373d92700",
   "metadata": {},
   "outputs": [
    {
     "data": {
      "text/plain": [
       "array([[ 13,  28,  45],\n",
       "       [ 52,  70,  90],\n",
       "       [ 91, 112, 135],\n",
       "       [130, 154, 180]])"
      ]
     },
     "execution_count": 83,
     "metadata": {},
     "output_type": "execute_result"
    }
   ],
   "source": [
    "n1 = np.array([[1, 2, 3], \n",
    "              [4, 5, 6],\n",
    "              [7, 8, 9], \n",
    "              [10, 11, 12]])\n",
    "n2= np.zeros_like(n1) # Creating a new array filled with 0's\n",
    "n3= np.array ([13,14,15])\n",
    "for i in range (n1.shape[0]):#Element-Wise Multiplication in a Loop\n",
    "    n2 [i,:] = n1[i,:]* n3\n",
    "\n",
    "n2"
   ]
  }
 ],
 "metadata": {
  "kernelspec": {
   "display_name": "Python 3 (ipykernel)",
   "language": "python",
   "name": "python3"
  },
  "language_info": {
   "codemirror_mode": {
    "name": "ipython",
    "version": 3
   },
   "file_extension": ".py",
   "mimetype": "text/x-python",
   "name": "python",
   "nbconvert_exporter": "python",
   "pygments_lexer": "ipython3",
   "version": "3.12.1"
  }
 },
 "nbformat": 4,
 "nbformat_minor": 5
}
